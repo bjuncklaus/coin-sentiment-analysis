{
 "cells": [
  {
   "cell_type": "code",
   "execution_count": 4,
   "metadata": {},
   "outputs": [
    {
     "name": "stdout",
     "output_type": "stream",
     "text": [
      "Collecting vaderSentiment\n",
      "  Downloading vaderSentiment-2.5-py2.py3-none-any.whl (102kB)\n",
      "\u001b[K    100% |████████████████████████████████| 112kB 269kB/s ta 0:00:01\n",
      "\u001b[?25hInstalling collected packages: vaderSentiment\n",
      "Successfully installed vaderSentiment-2.5\n"
     ]
    }
   ],
   "source": [
    "!pip install vaderSentiment"
   ]
  },
  {
   "cell_type": "code",
   "execution_count": 8,
   "metadata": {},
   "outputs": [
    {
     "name": "stdout",
     "output_type": "stream",
     "text": [
      "Requirement already satisfied: tweepy in /home/bmartins/workspace/virtualenv_python3.5/lib/python3.5/site-packages\r\n",
      "Requirement already satisfied: six>=1.7.3 in /home/bmartins/workspace/virtualenv_python3.5/lib/python3.5/site-packages (from tweepy)\r\n",
      "Requirement already satisfied: requests>=2.4.3 in /home/bmartins/workspace/virtualenv_python3.5/lib/python3.5/site-packages (from tweepy)\r\n",
      "Requirement already satisfied: requests-oauthlib>=0.4.1 in /home/bmartins/workspace/virtualenv_python3.5/lib/python3.5/site-packages (from tweepy)\r\n",
      "Requirement already satisfied: oauthlib>=0.6.2 in /home/bmartins/workspace/virtualenv_python3.5/lib/python3.5/site-packages (from requests-oauthlib>=0.4.1->tweepy)\r\n"
     ]
    }
   ],
   "source": [
    "!pip install tweepy"
   ]
  },
  {
   "cell_type": "code",
   "execution_count": 9,
   "metadata": {
    "collapsed": true
   },
   "outputs": [],
   "source": [
    "from vaderSentiment.vaderSentiment import SentimentIntensityAnalyzer\n",
    "import tweepy"
   ]
  },
  {
   "cell_type": "code",
   "execution_count": 32,
   "metadata": {},
   "outputs": [],
   "source": [
    "# Twitter info\n",
    "consumer_key = 'GW8wstK6iPAn4UY4FgnxfTd2h'\n",
    "consumer_secret = '6pIpAy32sOAATULfZqQWrXbe5sbXaQdUofPys1mSVlEMkIzKAa'\n",
    "access_token = '104984260-whCiE24vIwPgnx8Ym41LxEy8dldRRNFu8fLbiGzs'\n",
    "access_token_secret = 'oanaiTCnCPCnh1rHkMT7FxHAUeuT5NEnQZTGGnrITYmTd'\n",
    "\n",
    "# Authenticating on twitter\n",
    "auth = tweepy.OAuthHandler(consumer_key, consumer_secret)\n",
    "auth.set_access_token(access_token, access_token_secret)\n",
    "\n",
    "# API fully authenticated\n",
    "api = tweepy.API(auth)\n",
    "\n",
    "# Tweets\n",
    "SEARCH_TERM = 'bitcoin'\n",
    "public_tweets = api.search(SEARCH_TERM)"
   ]
  },
  {
   "cell_type": "code",
   "execution_count": 13,
   "metadata": {
    "collapsed": true
   },
   "outputs": [],
   "source": [
    "analyzer = SentimentIntensityAnalyzer()"
   ]
  },
  {
   "cell_type": "code",
   "execution_count": 33,
   "metadata": {},
   "outputs": [
    {
     "name": "stdout",
     "output_type": "stream",
     "text": [
      "Is #Bitcoininvestment a bubble? Top bitcoin expert, Adam Sharp of Early Investing said \"Bitcoin does not become 'ov… https://t.co/U7iJedZWdJ\n",
      "RT Cointelegraph \"#Miami #Bitcoin conference stop accepting #BTC, organizers blame network lags and fees https://t.co/lrRrczvsZJ\"\n",
      "RT @decredproject: In-depth discussion with @marco_peereboom on the upcoming Lightning Network, #Decred governance, Politeia, &amp; the ultimat…\n",
      "RT @miacryptoo: buy $icx pretty good entry point. \n",
      "Sell ~7100-7200\n",
      "#btc #bitcoin $btc $eth $ltc\n",
      "Vatandaşlara Bitcoin Uyarısı - EKONOMİ - Medyadaki Sözcünüz https://t.co/Iz7Deq1a8w via @http://www.ajans344.com\n",
      "An attack on #Bitcoin is an attack on our freedom to transact and to accumulate wealth.\n",
      "\n",
      "If you buy #Ripple or anot… https://t.co/zYQKuwBWDj\n",
      "RT @Hardisk: Dans un bus\n",
      "\n",
      "Personne 1 : Atchoum\n",
      "Personne 2 : A tes souhaits\n",
      "Vegan : A tes souhaits\n",
      "Utilisateurs de Bitcoin : Avec les frais…\n",
      "BlockChannel:Will Bitcoin Change How We Think about Regulation? https://t.co/AP6ZGjxW57\n",
      "Korsel Berniat Larang Bitcoin https://t.co/aC1qwhHaU7 https://t.co/MN978fk753\n",
      "RT @CNBCTopStories: US Senate to discuss bitcoin risks with top markets regulators, source says https://t.co/5j22oi2sgW https://t.co/rkCAmS…\n"
     ]
    }
   ],
   "source": [
    "for i in range(10):\n",
    "    print(public_tweets[i].text)"
   ]
  },
  {
   "cell_type": "code",
   "execution_count": null,
   "metadata": {
    "collapsed": true
   },
   "outputs": [],
   "source": [
    "for sentence in sentences:\n",
    "    vs = analyzer.polarity_scores(sentence)\n",
    "    print(\"{:-<65} {}\".format(sentence, str(vs)))"
   ]
  }
 ],
 "metadata": {
  "kernelspec": {
   "display_name": "Python 3",
   "language": "python",
   "name": "python3"
  },
  "language_info": {
   "codemirror_mode": {
    "name": "ipython",
    "version": 3
   },
   "file_extension": ".py",
   "mimetype": "text/x-python",
   "name": "python",
   "nbconvert_exporter": "python",
   "pygments_lexer": "ipython3",
   "version": "3.5.3"
  }
 },
 "nbformat": 4,
 "nbformat_minor": 2
}
